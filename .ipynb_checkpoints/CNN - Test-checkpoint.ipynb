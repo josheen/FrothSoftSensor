{
 "cells": [
  {
   "cell_type": "code",
   "execution_count": 1,
   "metadata": {
    "scrolled": true
   },
   "outputs": [],
   "source": [
    "import shutil\n",
    "import os\n",
    "import numpy as np\n",
    "from keras.applications import VGG16\n",
    "from keras import models\n",
    "from keras import layers\n",
    "from keras import optimizers\n",
    "from keras.callbacks import EarlyStopping\n",
    "from keras.preprocessing.image import ImageDataGenerator, array_to_img, img_to_array, load_img\n",
    "import pandas as pd\n",
    "import matplotlib as mplt\n",
    "import re"
   ]
  },
  {
   "cell_type": "code",
   "execution_count": 2,
   "metadata": {},
   "outputs": [],
   "source": [
    "directory = r'/home/josheen/projects/def-vinay/josheen/DL/Figure13model/runs_excel_files'\n",
    "dfs = []\n",
    "for runs in os.listdir(directory):\n",
    "    R = pd.read_excel(os.path.join(directory,runs))\n",
    "    rnum = os.path.splitext(runs)[0]\n",
    "    R.head()\n",
    "    R['Run'] = int(rnum[1])\n",
    "    R.head()\n",
    "    dfs.append(R)\n",
    "data = pd.concat(dfs)"
   ]
  },
  {
   "cell_type": "code",
   "execution_count": 3,
   "metadata": {},
   "outputs": [],
   "source": [
    "FileName = \"/home/josheen/projects/def-vinay/josheen/DL/Figure13model/mapped_data/AllRunsmapped.csv\"\n",
    "directory = \"/home/josheen/projects/def-vinay/josheen/DL/\"\n",
    "df = pd.read_csv(FileName)\n",
    "for index, row in df.iterrows():\n",
    "    address = row['Address']\n",
    "    new = address.replace(\"\\\\\", \"/\")\n",
    "    add_index = address.find('Figure13model')\n",
    "    new_filename = os.path.join(directory, new[add_index:])\n",
    "    df.at[index, 'Address'] = new_filename\n",
    "    \n",
    "df.to_csv('/home/josheen/projects/def-vinay/josheen/DL/saved_df.csv', index = False, header=True)"
   ]
  },
  {
   "cell_type": "code",
   "execution_count": 4,
   "metadata": {},
   "outputs": [],
   "source": [
    "df = df[df.Element == 'Lead']\n",
    "left=115\n",
    "top=35\n",
    "right=243\n",
    "bottom=163\n",
    "\n",
    "train_files = []\n",
    "y_train = []\n",
    "dataset = []\n",
    "for index, row in df.iterrows():\n",
    "    y_train.append(row['Recovery']) \n",
    "    img = load_img(row['Address'])  # this is a PIL image\n",
    "    \n",
    "    img1 = img.crop((left,top,right,bottom))\n",
    "    \n",
    "    #img2 =img1.thumbnail((128, 128))\n",
    "    x = img_to_array(img1)\n",
    "    #x = x.reshape((3, 128, 128))\n",
    "    #x = (x - 128.0) / 128.0\n",
    "    x = (x - 255.0) / 255.0\n",
    "    dataset.append(x)"
   ]
  },
  {
   "cell_type": "code",
   "execution_count": 5,
   "metadata": {},
   "outputs": [
    {
     "name": "stdout",
     "output_type": "stream",
     "text": [
      "Train set size: 613, Val set size: 205, Test set size: 204\n"
     ]
    }
   ],
   "source": [
    "from sklearn.model_selection import train_test_split\n",
    "\n",
    "test_to_train=0.4\n",
    "val_to_test=0.5\n",
    "\n",
    "X_train, X_test, y_train, y_test = train_test_split(dataset, y_train, test_size=test_to_train, random_state=33)\n",
    "X_test, X_val, y_test, y_val = train_test_split(X_test, y_test, test_size=val_to_test, random_state=33)\n",
    "print(\"Train set size: {0}, Val set size: {1}, Test set size: {2}\".format(len(X_train), len(X_val), len(X_test)))"
   ]
  },
  {
   "cell_type": "markdown",
   "metadata": {},
   "source": [
    "# Pretrained CNN - VGG16"
   ]
  },
  {
   "cell_type": "code",
   "execution_count": 6,
   "metadata": {},
   "outputs": [
    {
     "name": "stdout",
     "output_type": "stream",
     "text": [
      "Model: \"sequential\"\n",
      "_________________________________________________________________\n",
      "Layer (type)                 Output Shape              Param #   \n",
      "=================================================================\n",
      "vgg16 (Functional)           (None, 4, 4, 512)         14714688  \n",
      "_________________________________________________________________\n",
      "flatten (Flatten)            (None, 8192)              0         \n",
      "_________________________________________________________________\n",
      "dense (Dense)                (None, 256)               2097408   \n",
      "_________________________________________________________________\n",
      "dense_1 (Dense)              (None, 64)                16448     \n",
      "_________________________________________________________________\n",
      "dropout (Dropout)            (None, 64)                0         \n",
      "_________________________________________________________________\n",
      "dense_2 (Dense)              (None, 32)                2080      \n",
      "_________________________________________________________________\n",
      "dropout_1 (Dropout)          (None, 32)                0         \n",
      "_________________________________________________________________\n",
      "dense_3 (Dense)              (None, 1)                 33        \n",
      "=================================================================\n",
      "Total params: 16,830,657\n",
      "Trainable params: 2,115,969\n",
      "Non-trainable params: 14,714,688\n",
      "_________________________________________________________________\n"
     ]
    }
   ],
   "source": [
    "conv_base = VGG16(weights = 'imagenet', include_top=False, input_shape=(128,128,3))\n",
    "conv_base.trainable = False \n",
    "CNN = models.Sequential()\n",
    "CNN.add(conv_base)\n",
    "CNN.add(layers.Flatten())\n",
    "CNN.add(layers.Dense(256, activation='relu'))\n",
    "CNN.add(layers.Dropout(0.2))\n",
    "CNN.add(layers.Dense(32, activation='relu'))\n",
    "CNN.add(layers.Dropout(0.3))\n",
    "CNN.add(layers.Dense(1, activation = 'linear'))\n",
    "CNN.summary()"
   ]
  },
  {
   "cell_type": "code",
   "execution_count": null,
   "metadata": {},
   "outputs": [],
   "source": [
    "CNN.compile(loss='mean_squared_error', optimizer='rmsprop', metrics=['mae'])\n",
    "my_callbacks = EarlyStopping(monitor=\"mean_absolute_error\", patience=6, mode=\"auto\")\n",
    "X_val = np.array(X_val)\n",
    "X_train = np.array(X_train)\n",
    "y_train = np.array(y_train)\n",
    "y_val = np.array(y_val)\n",
    "CNN.fit(X_train, y_train, batch_size=32,epochs=75,validation_data=(X_val, y_val))\n",
    "model = CNN.save('/home/josheen/projects/def-vinay/josheen/DL/')\n"
   ]
  },
  {
   "cell_type": "markdown",
   "metadata": {},
   "source": [
    "# GAN Test"
   ]
  },
  {
   "cell_type": "code",
   "execution_count": null,
   "metadata": {},
   "outputs": [],
   "source": []
  }
 ],
 "metadata": {
  "kernelspec": {
   "display_name": "Python 3",
   "language": "python",
   "name": "python3"
  },
  "language_info": {
   "codemirror_mode": {
    "name": "ipython",
    "version": 3
   },
   "file_extension": ".py",
   "mimetype": "text/x-python",
   "name": "python",
   "nbconvert_exporter": "python",
   "pygments_lexer": "ipython3",
   "version": "3.6.3"
  }
 },
 "nbformat": 4,
 "nbformat_minor": 4
}
