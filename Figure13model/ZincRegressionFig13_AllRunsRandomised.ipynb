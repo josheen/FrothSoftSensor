{
 "cells": [
  {
   "cell_type": "code",
   "execution_count": 1,
   "metadata": {},
   "outputs": [],
   "source": [
    "import numpy as np \n",
    "import pandas as pd\n",
    "import os, sys\n",
    "from time import time\n",
    "from scipy import ndimage\n",
    "\n",
    "#from keras.preprocessing.image import ImageDataGenerator, array_to_img, img_to_array, load_img\n",
    "from sklearn.model_selection import train_test_split\n",
    "import tensorflow\n",
    "from tensorflow import keras\n",
    "from tensorflow.keras.preprocessing.image import ImageDataGenerator\n",
    "from tensorflow.keras import models, layers, optimizers, callbacks\n",
    "from tensorflow.keras.layers import Dense, Dropout, Flatten, Activation\n",
    "from tensorflow.keras.layers import Conv2D, MaxPooling2D, BatchNormalization,Convolution2D, MaxPooling2D\n",
    "from tensorflow.keras.models import Sequential\n",
    "import matplotlib.pyplot as plt\n",
    "from tensorflow.keras.utils import to_categorical\n",
    "from tensorflow.keras import models, layers\n",
    "from tensorflow.keras.preprocessing.image import ImageDataGenerator, array_to_img, img_to_array, load_img\n",
    "from tensorflow.keras.callbacks import EarlyStopping"
   ]
  },
  {
   "cell_type": "code",
   "execution_count": 2,
   "metadata": {},
   "outputs": [
    {
     "name": "stdout",
     "output_type": "stream",
     "text": [
      "(2569, 8)\n"
     ]
    },
    {
     "data": {
      "text/html": [
       "<div>\n",
       "<style scoped>\n",
       "    .dataframe tbody tr th:only-of-type {\n",
       "        vertical-align: middle;\n",
       "    }\n",
       "\n",
       "    .dataframe tbody tr th {\n",
       "        vertical-align: top;\n",
       "    }\n",
       "\n",
       "    .dataframe thead th {\n",
       "        text-align: right;\n",
       "    }\n",
       "</style>\n",
       "<table border=\"1\" class=\"dataframe\">\n",
       "  <thead>\n",
       "    <tr style=\"text-align: right;\">\n",
       "      <th></th>\n",
       "      <th>Address</th>\n",
       "      <th>Element</th>\n",
       "      <th>FileName</th>\n",
       "      <th>Recovery</th>\n",
       "      <th>Run</th>\n",
       "      <th>SheetName</th>\n",
       "      <th>Sl_No</th>\n",
       "      <th>Stage</th>\n",
       "    </tr>\n",
       "  </thead>\n",
       "  <tbody>\n",
       "    <tr>\n",
       "      <th>0</th>\n",
       "      <td>C:\\Users\\sidda\\Desktop\\plots\\Figure13model\\Cle...</td>\n",
       "      <td>Lead</td>\n",
       "      <td>Cell1 19h 06m 48.7750s.jpg</td>\n",
       "      <td>7.548923</td>\n",
       "      <td>1</td>\n",
       "      <td>R1_Lead</td>\n",
       "      <td>2</td>\n",
       "      <td>1</td>\n",
       "    </tr>\n",
       "    <tr>\n",
       "      <th>1</th>\n",
       "      <td>C:\\Users\\sidda\\Desktop\\plots\\Figure13model\\Cle...</td>\n",
       "      <td>Lead</td>\n",
       "      <td>Cell1 19h 06m 58.5150s.jpg</td>\n",
       "      <td>8.758845</td>\n",
       "      <td>1</td>\n",
       "      <td>R1_Lead</td>\n",
       "      <td>3</td>\n",
       "      <td>1</td>\n",
       "    </tr>\n",
       "    <tr>\n",
       "      <th>2</th>\n",
       "      <td>C:\\Users\\sidda\\Desktop\\plots\\Figure13model\\Cle...</td>\n",
       "      <td>Lead</td>\n",
       "      <td>Cell1 19h 07m 10.1370s.jpg</td>\n",
       "      <td>9.605029</td>\n",
       "      <td>1</td>\n",
       "      <td>R1_Lead</td>\n",
       "      <td>4</td>\n",
       "      <td>1</td>\n",
       "    </tr>\n",
       "    <tr>\n",
       "      <th>3</th>\n",
       "      <td>C:\\Users\\sidda\\Desktop\\plots\\Figure13model\\Cle...</td>\n",
       "      <td>Lead</td>\n",
       "      <td>Cell1 19h 07m 20.7539s.jpg</td>\n",
       "      <td>10.123912</td>\n",
       "      <td>1</td>\n",
       "      <td>R1_Lead</td>\n",
       "      <td>5</td>\n",
       "      <td>1</td>\n",
       "    </tr>\n",
       "    <tr>\n",
       "      <th>4</th>\n",
       "      <td>C:\\Users\\sidda\\Desktop\\plots\\Figure13model\\Cle...</td>\n",
       "      <td>Lead</td>\n",
       "      <td>Cell1 19h 07m 32.409s.jpg</td>\n",
       "      <td>10.577631</td>\n",
       "      <td>1</td>\n",
       "      <td>R1_Lead</td>\n",
       "      <td>6</td>\n",
       "      <td>1</td>\n",
       "    </tr>\n",
       "  </tbody>\n",
       "</table>\n",
       "</div>"
      ],
      "text/plain": [
       "                                             Address Element  \\\n",
       "0  C:\\Users\\sidda\\Desktop\\plots\\Figure13model\\Cle...    Lead   \n",
       "1  C:\\Users\\sidda\\Desktop\\plots\\Figure13model\\Cle...    Lead   \n",
       "2  C:\\Users\\sidda\\Desktop\\plots\\Figure13model\\Cle...    Lead   \n",
       "3  C:\\Users\\sidda\\Desktop\\plots\\Figure13model\\Cle...    Lead   \n",
       "4  C:\\Users\\sidda\\Desktop\\plots\\Figure13model\\Cle...    Lead   \n",
       "\n",
       "                     FileName   Recovery  Run SheetName  Sl_No  Stage  \n",
       "0  Cell1 19h 06m 48.7750s.jpg   7.548923    1   R1_Lead      2      1  \n",
       "1  Cell1 19h 06m 58.5150s.jpg   8.758845    1   R1_Lead      3      1  \n",
       "2  Cell1 19h 07m 10.1370s.jpg   9.605029    1   R1_Lead      4      1  \n",
       "3  Cell1 19h 07m 20.7539s.jpg  10.123912    1   R1_Lead      5      1  \n",
       "4   Cell1 19h 07m 32.409s.jpg  10.577631    1   R1_Lead      6      1  "
      ]
     },
     "execution_count": 2,
     "metadata": {},
     "output_type": "execute_result"
    }
   ],
   "source": [
    "FileName = r\"C:\\Users\\sidda\\Desktop\\plots\\Figure13model\\mapped_data\\AllRunsmapped.csv\"\n",
    "df = pd.read_csv(FileName)\n",
    "print(df.shape)\n",
    "df.head()"
   ]
  },
  {
   "cell_type": "code",
   "execution_count": null,
   "metadata": {},
   "outputs": [],
   "source": []
  },
  {
   "cell_type": "code",
   "execution_count": 3,
   "metadata": {},
   "outputs": [
    {
     "name": "stdout",
     "output_type": "stream",
     "text": [
      "(1547, 8)\n"
     ]
    },
    {
     "data": {
      "text/html": [
       "<div>\n",
       "<style scoped>\n",
       "    .dataframe tbody tr th:only-of-type {\n",
       "        vertical-align: middle;\n",
       "    }\n",
       "\n",
       "    .dataframe tbody tr th {\n",
       "        vertical-align: top;\n",
       "    }\n",
       "\n",
       "    .dataframe thead th {\n",
       "        text-align: right;\n",
       "    }\n",
       "</style>\n",
       "<table border=\"1\" class=\"dataframe\">\n",
       "  <thead>\n",
       "    <tr style=\"text-align: right;\">\n",
       "      <th></th>\n",
       "      <th>Address</th>\n",
       "      <th>Element</th>\n",
       "      <th>FileName</th>\n",
       "      <th>Recovery</th>\n",
       "      <th>Run</th>\n",
       "      <th>SheetName</th>\n",
       "      <th>Sl_No</th>\n",
       "      <th>Stage</th>\n",
       "    </tr>\n",
       "  </thead>\n",
       "  <tbody>\n",
       "    <tr>\n",
       "      <th>43</th>\n",
       "      <td>C:\\Users\\sidda\\Desktop\\plots\\Figure13model\\Cle...</td>\n",
       "      <td>Zinc</td>\n",
       "      <td>Cell1 19h 31m 12.6240s.jpg</td>\n",
       "      <td>9.481437</td>\n",
       "      <td>1</td>\n",
       "      <td>R1_Zinc</td>\n",
       "      <td>57</td>\n",
       "      <td>2</td>\n",
       "    </tr>\n",
       "    <tr>\n",
       "      <th>44</th>\n",
       "      <td>C:\\Users\\sidda\\Desktop\\plots\\Figure13model\\Cle...</td>\n",
       "      <td>Zinc</td>\n",
       "      <td>Cell1 19h 31m 22.7880s.jpg</td>\n",
       "      <td>11.687719</td>\n",
       "      <td>1</td>\n",
       "      <td>R1_Zinc</td>\n",
       "      <td>58</td>\n",
       "      <td>2</td>\n",
       "    </tr>\n",
       "    <tr>\n",
       "      <th>45</th>\n",
       "      <td>C:\\Users\\sidda\\Desktop\\plots\\Figure13model\\Cle...</td>\n",
       "      <td>Zinc</td>\n",
       "      <td>Cell1 19h 31m 32.9070s.jpg</td>\n",
       "      <td>14.963232</td>\n",
       "      <td>1</td>\n",
       "      <td>R1_Zinc</td>\n",
       "      <td>59</td>\n",
       "      <td>2</td>\n",
       "    </tr>\n",
       "    <tr>\n",
       "      <th>46</th>\n",
       "      <td>C:\\Users\\sidda\\Desktop\\plots\\Figure13model\\Cle...</td>\n",
       "      <td>Zinc</td>\n",
       "      <td>Cell1 19h 31m 46.1760s.jpg</td>\n",
       "      <td>16.307366</td>\n",
       "      <td>1</td>\n",
       "      <td>R1_Zinc</td>\n",
       "      <td>60</td>\n",
       "      <td>2</td>\n",
       "    </tr>\n",
       "    <tr>\n",
       "      <th>47</th>\n",
       "      <td>C:\\Users\\sidda\\Desktop\\plots\\Figure13model\\Cle...</td>\n",
       "      <td>Zinc</td>\n",
       "      <td>Cell1 19h 31m 57.2850s.jpg</td>\n",
       "      <td>17.622741</td>\n",
       "      <td>1</td>\n",
       "      <td>R1_Zinc</td>\n",
       "      <td>61</td>\n",
       "      <td>2</td>\n",
       "    </tr>\n",
       "  </tbody>\n",
       "</table>\n",
       "</div>"
      ],
      "text/plain": [
       "                                              Address Element  \\\n",
       "43  C:\\Users\\sidda\\Desktop\\plots\\Figure13model\\Cle...    Zinc   \n",
       "44  C:\\Users\\sidda\\Desktop\\plots\\Figure13model\\Cle...    Zinc   \n",
       "45  C:\\Users\\sidda\\Desktop\\plots\\Figure13model\\Cle...    Zinc   \n",
       "46  C:\\Users\\sidda\\Desktop\\plots\\Figure13model\\Cle...    Zinc   \n",
       "47  C:\\Users\\sidda\\Desktop\\plots\\Figure13model\\Cle...    Zinc   \n",
       "\n",
       "                      FileName   Recovery  Run SheetName  Sl_No  Stage  \n",
       "43  Cell1 19h 31m 12.6240s.jpg   9.481437    1   R1_Zinc     57      2  \n",
       "44  Cell1 19h 31m 22.7880s.jpg  11.687719    1   R1_Zinc     58      2  \n",
       "45  Cell1 19h 31m 32.9070s.jpg  14.963232    1   R1_Zinc     59      2  \n",
       "46  Cell1 19h 31m 46.1760s.jpg  16.307366    1   R1_Zinc     60      2  \n",
       "47  Cell1 19h 31m 57.2850s.jpg  17.622741    1   R1_Zinc     61      2  "
      ]
     },
     "execution_count": 3,
     "metadata": {},
     "output_type": "execute_result"
    }
   ],
   "source": [
    "df = df[df.Element == 'Zinc']\n",
    "print(df.shape)\n",
    "df.head()"
   ]
  },
  {
   "cell_type": "code",
   "execution_count": 4,
   "metadata": {},
   "outputs": [],
   "source": [
    "#Setting and Cropping image files\n",
    "   #Set Image crop dimensions- Set it to 128 * 128\n",
    "left=115\n",
    "top=35\n",
    "right=243\n",
    "bottom=163\n",
    "\n",
    "train_files = []\n",
    "y_train = []\n",
    "dataset = []\n",
    "for index, row in df.iterrows():\n",
    "    y_train.append(row['Recovery']) \n",
    "    img = load_img(row['Address'])  # this is a PIL image\n",
    "    \n",
    "    img1 = img.crop((left,top,right,bottom))\n",
    "    \n",
    "    #img2 =img1.thumbnail((128, 128))\n",
    "    x = img_to_array(img1)\n",
    "    #x = x.reshape((1, 128, 128))\n",
    "    #x = (x - 128.0) / 128.0\n",
    "    x = (x - 255.0) / 255.0\n",
    "    dataset.append(x)\n"
   ]
  },
  {
   "cell_type": "code",
   "execution_count": 6,
   "metadata": {},
   "outputs": [
    {
     "name": "stdout",
     "output_type": "stream",
     "text": [
      "Train set size: 928, Val set size: 310, Test set size: 309\n"
     ]
    }
   ],
   "source": [
    "from sklearn.model_selection import train_test_split\n",
    "\n",
    "# Setting ratios of Training,validation and testing\n",
    "test_to_train=0.4\n",
    "val_to_test=0.5\n",
    "\n",
    "\n",
    "#Splitting \n",
    "X_train, X_test, y_train, y_test = train_test_split(dataset, y_train, test_size=test_to_train, random_state=33)\n",
    "X_test, X_val, y_test, y_val = train_test_split(X_test, y_test, test_size=val_to_test, random_state=33)\n",
    "print(\"Train set size: {0}, Val set size: {1}, Test set size: {2}\".format(len(X_train), len(X_val), len(X_test)))"
   ]
  },
  {
   "cell_type": "code",
   "execution_count": 2,
   "metadata": {},
   "outputs": [
    {
     "name": "stdout",
     "output_type": "stream",
     "text": [
      "Model: \"sequential\"\n",
      "_________________________________________________________________\n",
      "Layer (type)                 Output Shape              Param #   \n",
      "=================================================================\n",
      "conv2d (Conv2D)              (None, 126, 126, 32)      896       \n",
      "_________________________________________________________________\n",
      "max_pooling2d (MaxPooling2D) (None, 63, 63, 32)        0         \n",
      "_________________________________________________________________\n",
      "batch_normalization (BatchNo (None, 63, 63, 32)        128       \n",
      "_________________________________________________________________\n",
      "conv2d_1 (Conv2D)            (None, 61, 61, 64)        18496     \n",
      "_________________________________________________________________\n",
      "max_pooling2d_1 (MaxPooling2 (None, 30, 30, 64)        0         \n",
      "_________________________________________________________________\n",
      "batch_normalization_1 (Batch (None, 30, 30, 64)        256       \n",
      "_________________________________________________________________\n",
      "conv2d_2 (Conv2D)            (None, 28, 28, 96)        55392     \n",
      "_________________________________________________________________\n",
      "max_pooling2d_2 (MaxPooling2 (None, 14, 14, 96)        0         \n",
      "_________________________________________________________________\n",
      "batch_normalization_2 (Batch (None, 14, 14, 96)        384       \n",
      "_________________________________________________________________\n",
      "conv2d_3 (Conv2D)            (None, 12, 12, 128)       110720    \n",
      "_________________________________________________________________\n",
      "max_pooling2d_3 (MaxPooling2 (None, 6, 6, 128)         0         \n",
      "_________________________________________________________________\n",
      "batch_normalization_3 (Batch (None, 6, 6, 128)         512       \n",
      "_________________________________________________________________\n",
      "dropout (Dropout)            (None, 6, 6, 128)         0         \n",
      "_________________________________________________________________\n",
      "flatten (Flatten)            (None, 4608)              0         \n",
      "_________________________________________________________________\n",
      "dense (Dense)                (None, 64)                294976    \n",
      "_________________________________________________________________\n",
      "dropout_1 (Dropout)          (None, 64)                0         \n",
      "_________________________________________________________________\n",
      "dense_1 (Dense)              (None, 32)                2080      \n",
      "_________________________________________________________________\n",
      "dropout_2 (Dropout)          (None, 32)                0         \n",
      "_________________________________________________________________\n",
      "dense_2 (Dense)              (None, 1)                 33        \n",
      "=================================================================\n",
      "Total params: 483,873\n",
      "Trainable params: 483,233\n",
      "Non-trainable params: 640\n",
      "_________________________________________________________________\n"
     ]
    }
   ],
   "source": [
    "# CNN Architecture\n",
    "model = Sequential()\n",
    "model.add(Conv2D(32, kernel_size = (3, 3), activation='relu', input_shape=(128,128,3)))\n",
    "model.add(MaxPooling2D(pool_size=(2,2)))\n",
    "model.add(BatchNormalization())\n",
    "model.add(Conv2D(64, kernel_size=(3,3), activation='relu'))\n",
    "model.add(MaxPooling2D(pool_size=(2,2)))\n",
    "model.add(BatchNormalization())\n",
    "model.add(Conv2D(96, kernel_size=(3,3), activation='relu'))\n",
    "model.add(MaxPooling2D(pool_size=(2,2)))\n",
    "model.add(BatchNormalization())\n",
    "model.add(Conv2D(128, kernel_size=(3,3), activation='relu'))\n",
    "model.add(MaxPooling2D(pool_size=(2,2)))\n",
    "model.add(BatchNormalization())\n",
    "model.add(Dropout(0.2))\n",
    "model.add(Flatten())\n",
    "model.add(Dense(64, activation='relu'))\n",
    "model.add(Dropout(0.2))\n",
    "model.add(Dense(32, activation='relu'))\n",
    "model.add(Dropout(0.3))\n",
    "model.add(Dense(1, activation = 'linear'))\n",
    "model.summary()"
   ]
  },
  {
   "cell_type": "code",
   "execution_count": 11,
   "metadata": {},
   "outputs": [],
   "source": [
    "model.compile(loss=rmse, optimizer='rmsprop', metrics=['mae'])"
   ]
  },
  {
   "cell_type": "code",
   "execution_count": 12,
   "metadata": {},
   "outputs": [
    {
     "data": {
      "text/plain": [
       "928"
      ]
     },
     "execution_count": 12,
     "metadata": {},
     "output_type": "execute_result"
    }
   ],
   "source": [
    "len(X_train)"
   ]
  },
  {
   "cell_type": "code",
   "execution_count": 15,
   "metadata": {},
   "outputs": [],
   "source": [
    "#Incase of TensorFlow version 2\n",
    "X_train=np.array(X_train)\n",
    "y_train=np.array(y_train)\n",
    "\n",
    "X_val=np.array(X_val)\n",
    "y_val=np.array(y_val)\n",
    "\n",
    "X_test=np.array(X_test)\n",
    "y_test=np.array(y_test)"
   ]
  },
  {
   "cell_type": "code",
   "execution_count": 16,
   "metadata": {},
   "outputs": [
    {
     "name": "stdout",
     "output_type": "stream",
     "text": [
      "Epoch 1/3\n",
      "29/29 [==============================] - 19s 650ms/step - loss: 14.4558 - mae: 12.3909 - val_loss: 29.2153 - val_mae: 28.5385\n",
      "Epoch 2/3\n",
      "29/29 [==============================] - 19s 640ms/step - loss: 10.9704 - mae: 8.9897 - val_loss: 28.9401 - val_mae: 28.2546\n",
      "Epoch 3/3\n",
      "29/29 [==============================] - 19s 642ms/step - loss: 10.2968 - mae: 8.4108 - val_loss: 25.7864 - val_mae: 24.9929\n"
     ]
    }
   ],
   "source": [
    "#model.fit([X_train], y_train, batch_size = 32, epochs = 15)\n",
    "\n",
    "my_callbacks = EarlyStopping(monitor=\"loss\", patience=6, mode=\"auto\")\n",
    "\n",
    "#hist= model.fit([X_train], y_train, batch_size=32,\n",
    "                   # epochs=5, \n",
    "                 # validation_data=([X_val], y_val))\n",
    "\n",
    "hist = model.fit([X_train], y_train, batch_size=32, epochs=3, verbose=1, validation_data=([X_val], y_val), callbacks=[my_callbacks])\n"
   ]
  },
  {
   "cell_type": "code",
   "execution_count": 17,
   "metadata": {},
   "outputs": [],
   "source": [
    "predictions_test = model.predict([X_test])"
   ]
  },
  {
   "cell_type": "code",
   "execution_count": 18,
   "metadata": {},
   "outputs": [
    {
     "name": "stdout",
     "output_type": "stream",
     "text": [
      "-18.636769564364666\n"
     ]
    }
   ],
   "source": [
    "#Finding the R-squared values of Regression\n",
    "from sklearn.metrics import r2_score\n",
    "Rsquared_testset=r2_score(y_test, predictions_test)\n",
    "print(Rsquared_testset)"
   ]
  },
  {
   "cell_type": "code",
   "execution_count": 19,
   "metadata": {},
   "outputs": [
    {
     "name": "stdout",
     "output_type": "stream",
     "text": [
      "-16.437665105857388\n",
      "-15.767464120315498\n"
     ]
    }
   ],
   "source": [
    "#Training and Validation Rsquared\n",
    "predictions_train= model.predict([X_train])\n",
    "predictions_val=model.predict([X_val])\n",
    "Rsquared_trainset=r2_score(y_train, predictions_train)\n",
    "Rsquared_valset=r2_score(y_val, predictions_val)\n",
    "print(Rsquared_trainset)\n",
    "print(Rsquared_valset)"
   ]
  },
  {
   "cell_type": "code",
   "execution_count": 20,
   "metadata": {},
   "outputs": [
    {
     "data": {
      "image/png": "[encoded data removed]",
      "text/plain": [
       "<Figure size 432x288 with 1 Axes>"
      ]
     },
     "metadata": {
      "needs_background": "light"
     },
     "output_type": "display_data"
    }
   ],
   "source": [
    "epoch_list = list(range(1, len(hist.history['loss']) + 1))\n",
    "plt.plot(epoch_list, hist.history['loss'], epoch_list, hist.history['val_loss'])\n",
    "plt.legend((\"Training Mae\", \"Validation Mae\"))\n",
    "plt.show()"
   ]
  },
  {
   "cell_type": "code",
   "execution_count": null,
   "metadata": {},
   "outputs": [],
   "source": []
  }
 ],
 "metadata": {
  "kernelspec": {
   "display_name": "Python 3",
   "language": "python",
   "name": "python3"
  },
  "language_info": {
   "codemirror_mode": {
    "name": "ipython",
    "version": 3
   },
   "file_extension": ".py",
   "mimetype": "text/x-python",
   "name": "python",
   "nbconvert_exporter": "python",
   "pygments_lexer": "ipython3",
   "version": "3.6.8"
  }
 },
 "nbformat": 4,
 "nbformat_minor": 2
}
